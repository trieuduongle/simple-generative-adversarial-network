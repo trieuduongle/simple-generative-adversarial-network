{
  "cells": [
    {
      "cell_type": "markdown",
      "metadata": {
        "id": "view-in-github",
        "colab_type": "text"
      },
      "source": [
        "<a href=\"https://colab.research.google.com/github/trieuduongle/simple-generative-adversarial-network/blob/spatial-temporal-gan/Train%20Spatial%20Temporal%20GAN.ipynb\" target=\"_parent\"><img src=\"https://colab.research.google.com/assets/colab-badge.svg\" alt=\"Open In Colab\"/></a>"
      ]
    },
    {
      "cell_type": "code",
      "execution_count": 1,
      "metadata": {
        "colab": {
          "base_uri": "https://localhost:8080/"
        },
        "id": "tLrjGVvQWNxH",
        "outputId": "25232b81-b094-46eb-c5fd-0fddee405fa4"
      },
      "outputs": [
        {
          "output_type": "stream",
          "name": "stdout",
          "text": [
            "Mounted at /content/drive\n"
          ]
        }
      ],
      "source": [
        "from google.colab import drive\n",
        "drive.mount('/content/drive', force_remount=True)"
      ]
    },
    {
      "cell_type": "code",
      "execution_count": null,
      "metadata": {
        "colab": {
          "base_uri": "https://localhost:8080/"
        },
        "id": "TQ8IXIA9WeV0",
        "outputId": "c831b15f-e65d-48b6-9702-f27d98c49b2d"
      },
      "outputs": [
        {
          "name": "stdout",
          "output_type": "stream",
          "text": [
            "fatal: destination path '/content/drive/My Drive/Duong/SimVP/code' already exists and is not an empty directory.\n"
          ]
        }
      ],
      "source": [
        "!git clone https://github.com/trieuduongle/simple-generative-adversarial-network.git '/content/drive/My Drive/Duong/simple-generative-adversarial-network/code'"
      ]
    },
    {
      "cell_type": "code",
      "execution_count": 2,
      "metadata": {
        "colab": {
          "base_uri": "https://localhost:8080/"
        },
        "id": "snonURDKWpwk",
        "outputId": "6f5b26e9-4931-46e1-878d-a4102abdb0d6"
      },
      "outputs": [
        {
          "output_type": "stream",
          "name": "stdout",
          "text": [
            "/content/drive/My Drive/Duong/SimGAN\n"
          ]
        }
      ],
      "source": [
        "%cd '/content/drive/My Drive/Duong/SimGAN'"
      ]
    },
    {
      "cell_type": "code",
      "execution_count": 3,
      "metadata": {
        "colab": {
          "base_uri": "https://localhost:8080/"
        },
        "id": "VyuC_ecGWmcU",
        "outputId": "b38bdc3b-b693-4abc-8979-b96fb92e6780"
      },
      "outputs": [
        {
          "output_type": "stream",
          "name": "stdout",
          "text": [
            "remote: Enumerating objects: 5, done.\u001b[K\n",
            "remote: Counting objects:  20% (1/5)\u001b[K\rremote: Counting objects:  40% (2/5)\u001b[K\rremote: Counting objects:  60% (3/5)\u001b[K\rremote: Counting objects:  80% (4/5)\u001b[K\rremote: Counting objects: 100% (5/5)\u001b[K\rremote: Counting objects: 100% (5/5), done.\u001b[K\n",
            "remote: Compressing objects: 100% (1/1)\u001b[K\rremote: Compressing objects: 100% (1/1), done.\u001b[K\n",
            "remote: Total 3 (delta 2), reused 3 (delta 2), pack-reused 0\u001b[K\n",
            "Unpacking objects:  33% (1/3)   \rUnpacking objects:  66% (2/3)   \rUnpacking objects: 100% (3/3)   \rUnpacking objects: 100% (3/3), done.\n",
            "From https://github.com/trieuduongle/simple-generative-adversarial-network\n",
            "   9268fa6..957cbc9  spatial-temporal-gan -> origin/spatial-temporal-gan\n",
            "Already on 'spatial-temporal-gan'\n",
            "Your branch is behind 'origin/spatial-temporal-gan' by 1 commit, and can be fast-forwarded.\n",
            "  (use \"git pull\" to update your local branch)\n",
            "Updating 9268fa6..957cbc9\n",
            "Fast-forward\n",
            " exp.py | 15 \u001b[31m---------------\u001b[m\n",
            " 1 file changed, 15 deletions(-)\n"
          ]
        }
      ],
      "source": [
        "!git fetch origin && git checkout spatial-temporal-gan && git pull"
      ]
    },
    {
      "cell_type": "markdown",
      "metadata": {
        "id": "pvsZ3mzo9BxB"
      },
      "source": [
        "#Trainning with Moving MNIST dataset"
      ]
    },
    {
      "cell_type": "code",
      "execution_count": 3,
      "metadata": {
        "colab": {
          "base_uri": "https://localhost:8080/"
        },
        "id": "SmpXMxrMC50q",
        "outputId": "4d6179db-5ddd-4ddd-9ec0-8a21e90c5811"
      },
      "outputs": [
        {
          "output_type": "stream",
          "name": "stdout",
          "text": [
            "Already up to date.\n"
          ]
        }
      ],
      "source": [
        "!git pull"
      ]
    },
    {
      "cell_type": "code",
      "execution_count": 5,
      "metadata": {
        "colab": {
          "base_uri": "https://localhost:8080/",
          "height": 1000
        },
        "id": "8KqQEKFi0jG9",
        "outputId": "dbbbbb17-9aaf-4a01-d006-f482327d00c7"
      },
      "outputs": [
        {
          "output_type": "stream",
          "name": "stdout",
          "text": [
            "Looking in indexes: https://pypi.org/simple, https://us-python.pkg.dev/colab-wheels/public/simple/\n",
            "Collecting matplotlib==3.5.1\n",
            "  Downloading matplotlib-3.5.1-cp38-cp38-manylinux_2_5_x86_64.manylinux1_x86_64.whl (11.3 MB)\n",
            "\u001b[K     |████████████████████████████████| 11.3 MB 30.5 MB/s \n",
            "\u001b[?25hCollecting torch==1.11.0\n",
            "  Downloading torch-1.11.0-cp38-cp38-manylinux1_x86_64.whl (750.6 MB)\n",
            "\u001b[K     |████████████████████████████████| 750.6 MB 18 kB/s \n",
            "\u001b[?25hCollecting torchvision==0.12.0\n",
            "  Downloading torchvision-0.12.0-cp38-cp38-manylinux1_x86_64.whl (21.0 MB)\n",
            "\u001b[K     |████████████████████████████████| 21.0 MB 1.2 MB/s \n",
            "\u001b[?25hCollecting tqdm==4.64.0\n",
            "  Downloading tqdm-4.64.0-py2.py3-none-any.whl (78 kB)\n",
            "\u001b[K     |████████████████████████████████| 78 kB 8.9 MB/s \n",
            "\u001b[?25hCollecting scikit-image==0.19.3\n",
            "  Downloading scikit_image-0.19.3-cp38-cp38-manylinux_2_17_x86_64.manylinux2014_x86_64.whl (14.0 MB)\n",
            "\u001b[K     |████████████████████████████████| 14.0 MB 74.8 MB/s \n",
            "\u001b[?25hRequirement already satisfied: cycler>=0.10 in /usr/local/lib/python3.8/dist-packages (from matplotlib==3.5.1->-r requirements.txt (line 1)) (0.11.0)\n",
            "Collecting fonttools>=4.22.0\n",
            "  Downloading fonttools-4.38.0-py3-none-any.whl (965 kB)\n",
            "\u001b[K     |████████████████████████████████| 965 kB 57.0 MB/s \n",
            "\u001b[?25hRequirement already satisfied: packaging>=20.0 in /usr/local/lib/python3.8/dist-packages (from matplotlib==3.5.1->-r requirements.txt (line 1)) (21.3)\n",
            "Requirement already satisfied: numpy>=1.17 in /usr/local/lib/python3.8/dist-packages (from matplotlib==3.5.1->-r requirements.txt (line 1)) (1.21.6)\n",
            "Requirement already satisfied: python-dateutil>=2.7 in /usr/local/lib/python3.8/dist-packages (from matplotlib==3.5.1->-r requirements.txt (line 1)) (2.8.2)\n",
            "Requirement already satisfied: pyparsing>=2.2.1 in /usr/local/lib/python3.8/dist-packages (from matplotlib==3.5.1->-r requirements.txt (line 1)) (3.0.9)\n",
            "Requirement already satisfied: kiwisolver>=1.0.1 in /usr/local/lib/python3.8/dist-packages (from matplotlib==3.5.1->-r requirements.txt (line 1)) (1.4.4)\n",
            "Requirement already satisfied: pillow>=6.2.0 in /usr/local/lib/python3.8/dist-packages (from matplotlib==3.5.1->-r requirements.txt (line 1)) (7.1.2)\n",
            "Requirement already satisfied: typing-extensions in /usr/local/lib/python3.8/dist-packages (from torch==1.11.0->-r requirements.txt (line 2)) (4.4.0)\n",
            "Requirement already satisfied: requests in /usr/local/lib/python3.8/dist-packages (from torchvision==0.12.0->-r requirements.txt (line 3)) (2.23.0)\n",
            "Requirement already satisfied: imageio>=2.4.1 in /usr/local/lib/python3.8/dist-packages (from scikit-image==0.19.3->-r requirements.txt (line 5)) (2.9.0)\n",
            "Requirement already satisfied: PyWavelets>=1.1.1 in /usr/local/lib/python3.8/dist-packages (from scikit-image==0.19.3->-r requirements.txt (line 5)) (1.4.1)\n",
            "Requirement already satisfied: tifffile>=2019.7.26 in /usr/local/lib/python3.8/dist-packages (from scikit-image==0.19.3->-r requirements.txt (line 5)) (2022.10.10)\n",
            "Requirement already satisfied: networkx>=2.2 in /usr/local/lib/python3.8/dist-packages (from scikit-image==0.19.3->-r requirements.txt (line 5)) (2.8.8)\n",
            "Requirement already satisfied: scipy>=1.4.1 in /usr/local/lib/python3.8/dist-packages (from scikit-image==0.19.3->-r requirements.txt (line 5)) (1.7.3)\n",
            "Requirement already satisfied: six>=1.5 in /usr/local/lib/python3.8/dist-packages (from python-dateutil>=2.7->matplotlib==3.5.1->-r requirements.txt (line 1)) (1.15.0)\n",
            "Requirement already satisfied: urllib3!=1.25.0,!=1.25.1,<1.26,>=1.21.1 in /usr/local/lib/python3.8/dist-packages (from requests->torchvision==0.12.0->-r requirements.txt (line 3)) (1.24.3)\n",
            "Requirement already satisfied: certifi>=2017.4.17 in /usr/local/lib/python3.8/dist-packages (from requests->torchvision==0.12.0->-r requirements.txt (line 3)) (2022.12.7)\n",
            "Requirement already satisfied: chardet<4,>=3.0.2 in /usr/local/lib/python3.8/dist-packages (from requests->torchvision==0.12.0->-r requirements.txt (line 3)) (3.0.4)\n",
            "Requirement already satisfied: idna<3,>=2.5 in /usr/local/lib/python3.8/dist-packages (from requests->torchvision==0.12.0->-r requirements.txt (line 3)) (2.10)\n",
            "Installing collected packages: torch, fonttools, tqdm, torchvision, scikit-image, matplotlib\n",
            "  Attempting uninstall: torch\n",
            "    Found existing installation: torch 1.13.0+cu116\n",
            "    Uninstalling torch-1.13.0+cu116:\n",
            "      Successfully uninstalled torch-1.13.0+cu116\n",
            "  Attempting uninstall: tqdm\n",
            "    Found existing installation: tqdm 4.64.1\n",
            "    Uninstalling tqdm-4.64.1:\n",
            "      Successfully uninstalled tqdm-4.64.1\n",
            "  Attempting uninstall: torchvision\n",
            "    Found existing installation: torchvision 0.14.0+cu116\n",
            "    Uninstalling torchvision-0.14.0+cu116:\n",
            "      Successfully uninstalled torchvision-0.14.0+cu116\n",
            "  Attempting uninstall: scikit-image\n",
            "    Found existing installation: scikit-image 0.18.3\n",
            "    Uninstalling scikit-image-0.18.3:\n",
            "      Successfully uninstalled scikit-image-0.18.3\n",
            "  Attempting uninstall: matplotlib\n",
            "    Found existing installation: matplotlib 3.2.2\n",
            "    Uninstalling matplotlib-3.2.2:\n",
            "      Successfully uninstalled matplotlib-3.2.2\n",
            "\u001b[31mERROR: pip's dependency resolver does not currently take into account all the packages that are installed. This behaviour is the source of the following dependency conflicts.\n",
            "torchtext 0.14.0 requires torch==1.13.0, but you have torch 1.11.0 which is incompatible.\n",
            "torchaudio 0.13.0+cu116 requires torch==1.13.0, but you have torch 1.11.0 which is incompatible.\u001b[0m\n",
            "Successfully installed fonttools-4.38.0 matplotlib-3.5.1 scikit-image-0.19.3 torch-1.11.0 torchvision-0.12.0 tqdm-4.64.0\n"
          ]
        },
        {
          "output_type": "display_data",
          "data": {
            "application/vnd.colab-display-data+json": {
              "pip_warning": {
                "packages": [
                  "matplotlib",
                  "mpl_toolkits"
                ]
              }
            }
          },
          "metadata": {}
        }
      ],
      "source": [
        "!pip install -r requirements.txt"
      ]
    },
    {
      "cell_type": "code",
      "source": [
        "!python main.py \\\n",
        "  --res_dir './results/mnist/20221225-lan-mot' \\\n",
        "  --data_root '/content/drive/My Drive/Duong/datasets/' \\\n",
        "  --dataname 'mmnist' \\\n",
        "  --num_workers 8 \\\n",
        "  --batch_size 32 \\\n",
        "  --val_batch_size 32 \\\n",
        "  --epochs 201 \\\n",
        "  --save_epoch_freq 5\\\n",
        "  --in_shape 10 1 64 64 \\\n",
        "  --pre_seq_length 10 \\\n",
        "  --aft_seq_length 10 \\\n",
        "  --image_channels 1 \\\n",
        "  --lr_D 0.01 \\\n",
        "  --lambda_adv 0.01 \\\n",
        "  --lambda_spatial_adv 0.01"
      ],
      "metadata": {
        "id": "kJqVeYqh8WfF",
        "outputId": "0b56bd15-2ffb-4db4-eb54-b475a19588ad",
        "colab": {
          "base_uri": "https://localhost:8080/"
        }
      },
      "execution_count": null,
      "outputs": [
        {
          "output_type": "stream",
          "name": "stdout",
          "text": [
            "Use GPU: 0\n",
            "\n",
            "device: \tcuda\t\n",
            "res_dir: \t./results/mnist/20221225-lan-mot\t\n",
            "ex_name: \tDebug\t\n",
            "use_gpu: \tTrue\t\n",
            "gpu: \t0\t\n",
            "seed: \t1\t\n",
            "batch_size: \t32\t\n",
            "val_batch_size: \t32\t\n",
            "data_root: \t/content/drive/My Drive/Duong/datasets/\t\n",
            "dataname: \tmmnist\t\n",
            "num_workers: \t8\t\n",
            "in_shape: \t[10, 1, 64, 64]\t\n",
            "image_channels: \t1\t\n",
            "hid_S: \t64\t\n",
            "hid_T: \t256\t\n",
            "N_S: \t4\t\n",
            "N_T: \t8\t\n",
            "groups: \t4\t\n",
            "pre_seq_length: \t10\t\n",
            "aft_seq_length: \t10\t\n",
            "epochs: \t201\t\n",
            "log_step: \t1\t\n",
            "save_epoch_freq: \t5\t\n",
            "lr: \t0.01\t\n",
            "resume_path: \t\t\n",
            "lr_D: \t0.01\t\n",
            "gan_type: \tvanilla\t\n",
            "lambda_adv: \t0.01\t\n",
            "lambda_spatial_adv: \t0.01\t\n",
            ">>>>>>>>>>>>>>>>>>>>>>>>>>>>  start <<<<<<<<<<<<<<<<<<<<<<<<<<<<<<<<\n",
            "Train loss: 0.036526788 - Generator Loss 0.031525232 - Spatial Loss: 0.250002623 - Temporal Loss 0.249937952: 100% 313/313 [29:17<00:00,  5.62s/it]\n",
            "vali loss: 0.0308:  10% 32/313 [00:10<01:28,  3.17it/s]\n",
            "vali mse:129.6679, mae:318.7279, ssim:0.5157, psnr:32.0921\n",
            "(32, 10, 1, 64, 64)\n",
            "Epoch: 1 | Train Loss: 0.0442 - Generator Loss 0.039190500 - Spatial Loss: 0.250003097 - Temporal Loss 0.249973808 - Vali Loss: 0.0317 | Take 1775.7989 seconds\n",
            "\n",
            "Validation loss decreased (inf --> 0.031657).  Saving model ...\n",
            "Train loss: 0.037380911 - Generator Loss 0.032393377 - Spatial Loss: 0.250000864 - Temporal Loss 0.249428093: 100% 313/313 [29:18<00:00,  5.62s/it]\n",
            "vali loss: 0.0288:  10% 32/313 [00:09<01:26,  3.23it/s]\n",
            "vali mse:120.4243, mae:279.2916, ssim:0.5896, psnr:33.0654\n",
            "(32, 10, 1, 64, 64)\n",
            "Epoch: 2 | Train Loss: 0.0349 - Generator Loss 0.029934442 - Spatial Loss: 0.250001519 - Temporal Loss 0.249807010 - Vali Loss: 0.0294 | Take 1776.3345 seconds\n",
            "\n",
            "Validation loss decreased (0.031657 --> 0.029401).  Saving model ...\n",
            "Train loss: 0.031545509 - Generator Loss 0.029043669 - Spatial Loss: 0.249999642 - Temporal Loss 0.500000000: 100% 313/313 [28:52<00:00,  5.53s/it]\n",
            "vali loss: 0.0277:  10% 32/313 [00:09<01:27,  3.23it/s]\n",
            "vali mse:115.2689, mae:272.4965, ssim:0.6143, psnr:33.3907\n",
            "(32, 10, 1, 64, 64)\n",
            "Epoch: 3 | Train Loss: 0.0328 - Generator Loss 0.028415422 - Spatial Loss: 0.250000478 - Temporal Loss 0.298149004 - Vali Loss: 0.0281 | Take 1749.7834 seconds\n",
            "\n",
            "Validation loss decreased (0.029401 --> 0.028142).  Saving model ...\n",
            "Train loss: 0.027877003 - Generator Loss 0.025375217 - Spatial Loss: 0.249999031 - Temporal Loss 0.500000000: 100% 313/313 [27:56<00:00,  5.36s/it]\n",
            "vali loss: 0.0267:  10% 32/313 [00:09<01:27,  3.20it/s]\n",
            "vali mse:111.8812, mae:258.8303, ssim:0.6416, psnr:33.7528\n",
            "(32, 10, 1, 64, 64)\n",
            "Epoch: 4 | Train Loss: 0.0298 - Generator Loss 0.027329257 - Spatial Loss: 0.249999372 - Temporal Loss 0.500000000 - Vali Loss: 0.0273 | Take 1693.6254 seconds\n",
            "\n",
            "Validation loss decreased (0.028142 --> 0.027315).  Saving model ...\n",
            "Train loss: 0.029404793 - Generator Loss 0.026903052 - Spatial Loss: 0.249997601 - Temporal Loss 0.500000000: 100% 313/313 [27:56<00:00,  5.35s/it]\n",
            "vali loss: 0.0259:  10% 32/313 [00:09<01:26,  3.23it/s]\n",
            "vali mse:107.9147, mae:258.5932, ssim:0.6325, psnr:33.6719\n",
            "(32, 10, 1, 64, 64)\n",
            "Epoch: 5 | Train Loss: 0.0289 - Generator Loss 0.026363976 - Spatial Loss: 0.249998502 - Temporal Loss 0.500000000 - Vali Loss: 0.0263 | Take 1693.3741 seconds\n",
            "\n",
            "Validation loss decreased (0.027315 --> 0.026347).  Saving model ...\n",
            "Train loss: 0.026736440 - Generator Loss 0.024234736 - Spatial Loss: 0.249996841 - Temporal Loss 0.500000000: 100% 313/313 [27:55<00:00,  5.35s/it]\n",
            "vali loss: 0.0248:  10% 32/313 [00:09<01:27,  3.22it/s]\n",
            "vali mse:104.5143, mae:249.1368, ssim:0.6681, psnr:34.0856\n",
            "(32, 10, 1, 64, 64)\n",
            "Epoch: 6 | Train Loss: 0.0281 - Generator Loss 0.025589973 - Spatial Loss: 0.249997736 - Temporal Loss 0.500000000 - Vali Loss: 0.0255 | Take 1693.1756 seconds\n",
            "\n",
            "Validation loss decreased (0.026347 --> 0.025516).  Saving model ...\n",
            "Train loss: 0.028419280 - Generator Loss 0.025917629 - Spatial Loss: 0.249996483 - Temporal Loss 0.500000000: 100% 313/313 [27:56<00:00,  5.36s/it]\n",
            "vali loss: 0.0241:  10% 32/313 [00:10<01:28,  3.19it/s]\n",
            "vali mse:101.4299, mae:241.1800, ssim:0.6726, psnr:34.1646\n",
            "(32, 10, 1, 64, 64)\n",
            "Epoch: 7 | Train Loss: 0.0272 - Generator Loss 0.024702797 - Spatial Loss: 0.249997083 - Temporal Loss 0.500000000 - Vali Loss: 0.0248 | Take 1694.2054 seconds\n",
            "\n",
            "Validation loss decreased (0.025516 --> 0.024763).  Saving model ...\n",
            "Train loss: 0.027542455 - Generator Loss 0.025040841 - Spatial Loss: 0.249995708 - Temporal Loss 0.500000000: 100% 313/313 [27:56<00:00,  5.36s/it]\n",
            "vali loss: 0.0235:  10% 32/313 [00:10<01:32,  3.03it/s]\n",
            "vali mse:98.6784, mae:235.3947, ssim:0.6612, psnr:34.1529\n",
            "(32, 10, 1, 64, 64)\n",
            "Epoch: 8 | Train Loss: 0.0266 - Generator Loss 0.024096683 - Spatial Loss: 0.249996400 - Temporal Loss 0.500000000 - Vali Loss: 0.0241 | Take 1694.7407 seconds\n",
            "\n",
            "Validation loss decreased (0.024763 --> 0.024092).  Saving model ...\n",
            "Train loss: 0.026067933 - Generator Loss 0.023566360 - Spatial Loss: 0.249994859 - Temporal Loss 0.500000000: 100% 313/313 [27:55<00:00,  5.35s/it]\n",
            "vali loss: 0.0226:  10% 32/313 [00:10<01:28,  3.18it/s]\n",
            "vali mse:95.0237, mae:222.9533, ssim:0.7269, psnr:34.8654\n",
            "(32, 10, 1, 64, 64)\n",
            "Epoch: 9 | Train Loss: 0.0258 - Generator Loss 0.023315665 - Spatial Loss: 0.249995827 - Temporal Loss 0.500000000 - Vali Loss: 0.0232 | Take 1693.4855 seconds\n",
            "\n",
            "Validation loss decreased (0.024092 --> 0.023199).  Saving model ...\n",
            "Train loss: 0.025241004 - Generator Loss 0.022739489 - Spatial Loss: 0.249995261 - Temporal Loss 0.500000000: 100% 313/313 [27:55<00:00,  5.35s/it]\n",
            "vali loss: 0.0223:  10% 32/313 [00:09<01:27,  3.21it/s]\n",
            "vali mse:92.2909, mae:219.6608, ssim:0.7278, psnr:34.8341\n",
            "(32, 10, 1, 64, 64)\n",
            "Epoch: 10 | Train Loss: 0.0251 - Generator Loss 0.022599528 - Spatial Loss: 0.249995294 - Temporal Loss 0.500000000 - Vali Loss: 0.0225 | Take 1693.4933 seconds\n",
            "\n",
            "Validation loss decreased (0.023199 --> 0.022532).  Saving model ...\n",
            "Train loss: 0.025789984 - Generator Loss 0.023288513 - Spatial Loss: 0.249994308 - Temporal Loss 0.500000000: 100% 313/313 [27:55<00:00,  5.35s/it]\n",
            "vali loss: 0.0216:  10% 32/313 [00:10<01:28,  3.16it/s]\n",
            "vali mse:90.1521, mae:221.8028, ssim:0.6944, psnr:34.5765\n",
            "(32, 10, 1, 64, 64)\n",
            "Epoch: 11 | Train Loss: 0.0245 - Generator Loss 0.022028580 - Spatial Loss: 0.249994691 - Temporal Loss 0.500000000 - Vali Loss: 0.0220 | Take 1693.7241 seconds\n",
            "\n",
            "Validation loss decreased (0.022532 --> 0.022010).  Saving model ...\n",
            "Train loss: 0.023839017 - Generator Loss 0.021337610 - Spatial Loss: 0.249994233 - Temporal Loss 0.500000000: 100% 313/313 [27:56<00:00,  5.36s/it]\n",
            "vali loss: 0.0209:  10% 32/313 [00:09<01:27,  3.21it/s]\n",
            "vali mse:87.9777, mae:207.7649, ssim:0.7579, psnr:35.3058\n",
            "(32, 10, 1, 64, 64)\n",
            "Epoch: 12 | Train Loss: 0.0240 - Generator Loss 0.021519012 - Spatial Loss: 0.249994099 - Temporal Loss 0.500000000 - Vali Loss: 0.0215 | Take 1694.5844 seconds\n",
            "\n",
            "Validation loss decreased (0.022010 --> 0.021479).  Saving model ...\n",
            "Train loss: 0.023444111 - Generator Loss 0.020942751 - Spatial Loss: 0.249993354 - Temporal Loss 0.500000000: 100% 313/313 [27:57<00:00,  5.36s/it]\n",
            "vali loss: 0.0203:  10% 32/313 [00:10<01:27,  3.20it/s]\n",
            "vali mse:85.4778, mae:206.0558, ssim:0.7495, psnr:35.1134\n",
            "(32, 10, 1, 64, 64)\n",
            "Epoch: 13 | Train Loss: 0.0236 - Generator Loss 0.021077238 - Spatial Loss: 0.249993491 - Temporal Loss 0.500000000 - Vali Loss: 0.0209 | Take 1694.5854 seconds\n",
            "\n",
            "Validation loss decreased (0.021479 --> 0.020869).  Saving model ...\n",
            "Train loss: 0.022618990 - Generator Loss 0.020117644 - Spatial Loss: 0.249992281 - Temporal Loss 0.500000000: 100% 313/313 [27:56<00:00,  5.36s/it]\n",
            "vali loss: 0.0209:  10% 32/313 [00:10<01:27,  3.19it/s]\n",
            "vali mse:85.8692, mae:207.9434, ssim:0.7534, psnr:35.0369\n",
            "(32, 10, 1, 64, 64)\n",
            "Epoch: 14 | Train Loss: 0.0231 - Generator Loss 0.020608256 - Spatial Loss: 0.249992881 - Temporal Loss 0.500000000 - Vali Loss: 0.0210 | Take 1694.5251 seconds\n",
            "\n",
            "Train loss: 0.022889093 - Generator Loss 0.020387838 - Spatial Loss: 0.249991894 - Temporal Loss 0.500000000: 100% 313/313 [27:56<00:00,  5.36s/it]\n",
            "vali loss: 0.0197:  10% 32/313 [00:10<01:31,  3.07it/s]\n",
            "vali mse:83.8416, mae:198.4581, ssim:0.7757, psnr:35.5070\n",
            "(32, 10, 1, 64, 64)\n",
            "Epoch: 15 | Train Loss: 0.0227 - Generator Loss 0.020239007 - Spatial Loss: 0.249992197 - Temporal Loss 0.500000000 - Vali Loss: 0.0205 | Take 1694.0167 seconds\n",
            "\n",
            "Validation loss decreased (0.020869 --> 0.020469).  Saving model ...\n",
            "Train loss: 0.022749962 - Generator Loss 0.020248782 - Spatial Loss: 0.249991715 - Temporal Loss 0.500000000: 100% 313/313 [27:56<00:00,  5.35s/it]\n",
            "vali loss: 0.0197:  10% 32/313 [00:10<01:28,  3.17it/s]\n",
            "vali mse:82.3603, mae:208.6749, ssim:0.7105, psnr:35.0706\n",
            "(32, 10, 1, 64, 64)\n",
            "Epoch: 16 | Train Loss: 0.0225 - Generator Loss 0.020016963 - Spatial Loss: 0.249991499 - Temporal Loss 0.500000000 - Vali Loss: 0.0201 | Take 1693.6399 seconds\n",
            "\n",
            "Validation loss decreased (0.020469 --> 0.020108).  Saving model ...\n",
            "Train loss: 0.022076067 - Generator Loss 0.019574925 - Spatial Loss: 0.249990180 - Temporal Loss 0.500000000: 100% 313/313 [27:56<00:00,  5.35s/it]\n",
            "vali loss: 0.0197:  10% 32/313 [00:10<01:29,  3.14it/s]\n",
            "vali mse:80.2740, mae:195.7613, ssim:0.7755, psnr:35.4228\n",
            "(32, 10, 1, 64, 64)\n",
            "Epoch: 17 | Train Loss: 0.0222 - Generator Loss 0.019655144 - Spatial Loss: 0.249990734 - Temporal Loss 0.500000000 - Vali Loss: 0.0196 | Take 1693.6107 seconds\n",
            "\n",
            "Validation loss decreased (0.020108 --> 0.019598).  Saving model ...\n",
            "Train loss: 0.022062216 - Generator Loss 0.019561091 - Spatial Loss: 0.249987826 - Temporal Loss 0.500000000: 100% 313/313 [27:55<00:00,  5.35s/it]\n",
            "vali loss: 0.0190:  10% 32/313 [00:09<01:27,  3.20it/s]\n",
            "vali mse:79.4817, mae:197.9021, ssim:0.7423, psnr:35.3181\n",
            "(32, 10, 1, 64, 64)\n",
            "Epoch: 18 | Train Loss: 0.0219 - Generator Loss 0.019398769 - Spatial Loss: 0.249989974 - Temporal Loss 0.500000000 - Vali Loss: 0.0194 | Take 1692.5108 seconds\n",
            "\n",
            "Validation loss decreased (0.019598 --> 0.019405).  Saving model ...\n",
            "Train loss: 0.022774056 - Generator Loss 0.020273034 - Spatial Loss: 0.249988586 - Temporal Loss 0.500000000: 100% 313/313 [27:54<00:00,  5.35s/it]\n",
            "vali loss: 0.0187:  10% 32/313 [00:10<01:28,  3.19it/s]\n",
            "vali mse:78.6235, mae:186.7029, ssim:0.7884, psnr:35.6613\n",
            "(32, 10, 1, 64, 64)\n",
            "Epoch: 19 | Train Loss: 0.0216 - Generator Loss 0.019109839 - Spatial Loss: 0.249989120 - Temporal Loss 0.500000000 - Vali Loss: 0.0192 | Take 1692.3074 seconds\n",
            "\n",
            "Validation loss decreased (0.019405 --> 0.019195).  Saving model ...\n",
            "Train loss: 0.021709321 - Generator Loss 0.019208299 - Spatial Loss: 0.249987781 - Temporal Loss 0.500000000: 100% 313/313 [27:55<00:00,  5.35s/it]\n",
            "vali loss: 0.0182:  10% 32/313 [00:10<01:28,  3.17it/s]\n",
            "vali mse:77.1786, mae:194.3586, ssim:0.7555, psnr:35.3446\n",
            "(32, 10, 1, 64, 64)\n",
            "Epoch: 20 | Train Loss: 0.0214 - Generator Loss 0.018900111 - Spatial Loss: 0.249988204 - Temporal Loss 0.500000000 - Vali Loss: 0.0188 | Take 1692.8014 seconds\n",
            "\n",
            "Validation loss decreased (0.019195 --> 0.018843).  Saving model ...\n",
            "Train loss: 0.020285262 - Generator Loss 0.017784363 - Spatial Loss: 0.249988943 - Temporal Loss 0.500000000:  98% 308/313 [27:30<00:26,  5.35s/it]"
          ]
        }
      ]
    }
  ],
  "metadata": {
    "accelerator": "GPU",
    "colab": {
      "provenance": [],
      "include_colab_link": true
    },
    "gpuClass": "premium",
    "kernelspec": {
      "display_name": "Python 3",
      "name": "python3"
    },
    "language_info": {
      "name": "python"
    }
  },
  "nbformat": 4,
  "nbformat_minor": 0
}