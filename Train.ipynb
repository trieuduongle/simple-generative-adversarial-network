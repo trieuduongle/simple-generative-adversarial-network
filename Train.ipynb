{
  "cells": [
    {
      "cell_type": "markdown",
      "metadata": {
        "id": "view-in-github",
        "colab_type": "text"
      },
      "source": [
        "<a href=\"https://colab.research.google.com/github/trieuduongle/simple-generative-adversarial-network/blob/main/Train.ipynb\" target=\"_parent\"><img src=\"https://colab.research.google.com/assets/colab-badge.svg\" alt=\"Open In Colab\"/></a>"
      ]
    },
    {
      "cell_type": "code",
      "execution_count": 1,
      "metadata": {
        "colab": {
          "base_uri": "https://localhost:8080/"
        },
        "id": "tLrjGVvQWNxH",
        "outputId": "6dd65e60-88d4-430f-ac90-b01e53ee2846"
      },
      "outputs": [
        {
          "output_type": "stream",
          "name": "stdout",
          "text": [
            "Mounted at /content/drive\n"
          ]
        }
      ],
      "source": [
        "from google.colab import drive\n",
        "drive.mount('/content/drive', force_remount=True)"
      ]
    },
    {
      "cell_type": "code",
      "execution_count": 2,
      "metadata": {
        "colab": {
          "base_uri": "https://localhost:8080/"
        },
        "id": "TQ8IXIA9WeV0",
        "outputId": "e357aeea-3b8e-46c8-a995-e464abf331a9"
      },
      "outputs": [
        {
          "output_type": "stream",
          "name": "stdout",
          "text": [
            "Cloning into '/content/drive/My Drive/Duong/SimGAN'...\n",
            "remote: Enumerating objects: 15, done.\u001b[K\n",
            "remote: Counting objects: 100% (15/15), done.\u001b[K\n",
            "remote: Compressing objects: 100% (11/11), done.\u001b[K\n",
            "remote: Total 15 (delta 1), reused 12 (delta 1), pack-reused 0\u001b[K\n",
            "Unpacking objects: 100% (15/15), done.\n"
          ]
        }
      ],
      "source": [
        "!git clone https://github.com/trieuduongle/simple-generative-adversarial-network.git '/content/drive/My Drive/Duong/SimGAN'"
      ]
    },
    {
      "cell_type": "code",
      "execution_count": 5,
      "metadata": {
        "colab": {
          "base_uri": "https://localhost:8080/"
        },
        "id": "snonURDKWpwk",
        "outputId": "03d9c826-66a3-4478-95c5-d76aea8a7dac"
      },
      "outputs": [
        {
          "output_type": "stream",
          "name": "stdout",
          "text": [
            "/content/drive/My Drive/Duong/SimGAN\n"
          ]
        }
      ],
      "source": [
        "%cd '/content/drive/My Drive/Duong/SimGAN'"
      ]
    },
    {
      "cell_type": "code",
      "execution_count": 6,
      "metadata": {
        "colab": {
          "base_uri": "https://localhost:8080/"
        },
        "id": "VyuC_ecGWmcU",
        "outputId": "d5317622-7720-407e-e8a3-7519379ed5d5"
      },
      "outputs": [
        {
          "output_type": "stream",
          "name": "stdout",
          "text": [
            "Already on 'main'\n",
            "Your branch is up to date with 'origin/main'.\n",
            "Already up to date.\n"
          ]
        }
      ],
      "source": [
        "!git fetch origin && git checkout main && git pull"
      ]
    },
    {
      "cell_type": "markdown",
      "metadata": {
        "id": "pvsZ3mzo9BxB"
      },
      "source": [
        "#Trainning with Moving MNIST dataset"
      ]
    },
    {
      "cell_type": "code",
      "execution_count": 8,
      "metadata": {
        "colab": {
          "base_uri": "https://localhost:8080/"
        },
        "id": "SmpXMxrMC50q",
        "outputId": "1a05a4e3-2ef6-4d60-aaf0-83f7e9dfbc40"
      },
      "outputs": [
        {
          "output_type": "stream",
          "name": "stdout",
          "text": [
            "remote: Enumerating objects: 5, done.\u001b[K\n",
            "remote: Counting objects:  20% (1/5)\u001b[K\rremote: Counting objects:  40% (2/5)\u001b[K\rremote: Counting objects:  60% (3/5)\u001b[K\rremote: Counting objects:  80% (4/5)\u001b[K\rremote: Counting objects: 100% (5/5)\u001b[K\rremote: Counting objects: 100% (5/5), done.\u001b[K\n",
            "remote: Compressing objects: 100% (1/1)\u001b[K\rremote: Compressing objects: 100% (1/1), done.\u001b[K\n",
            "remote: Total 3 (delta 2), reused 3 (delta 2), pack-reused 0\u001b[K\n",
            "Unpacking objects:  33% (1/3)   \rUnpacking objects:  66% (2/3)   \rUnpacking objects: 100% (3/3)   \rUnpacking objects: 100% (3/3), done.\n",
            "From https://github.com/trieuduongle/simple-generative-adversarial-network\n",
            "   2cce185..70adce4  main       -> origin/main\n",
            "Updating 2cce185..70adce4\n",
            "Fast-forward\n",
            " main.py | 8 \u001b[32m+++++++\u001b[m\u001b[31m-\u001b[m\n",
            " 1 file changed, 7 insertions(+), 1 deletion(-)\n"
          ]
        }
      ],
      "source": [
        "!git pull"
      ]
    },
    {
      "cell_type": "code",
      "execution_count": 7,
      "metadata": {
        "colab": {
          "base_uri": "https://localhost:8080/",
          "height": 1000
        },
        "id": "8KqQEKFi0jG9",
        "outputId": "4eb1a5a3-a4d0-41ac-b5d2-0205c40aeec6"
      },
      "outputs": [
        {
          "output_type": "stream",
          "name": "stdout",
          "text": [
            "Looking in indexes: https://pypi.org/simple, https://us-python.pkg.dev/colab-wheels/public/simple/\n",
            "Collecting matplotlib==3.5.1\n",
            "  Downloading matplotlib-3.5.1-cp38-cp38-manylinux_2_5_x86_64.manylinux1_x86_64.whl (11.3 MB)\n",
            "\u001b[K     |████████████████████████████████| 11.3 MB 5.1 MB/s \n",
            "\u001b[?25hCollecting torch==1.11.0\n",
            "  Downloading torch-1.11.0-cp38-cp38-manylinux1_x86_64.whl (750.6 MB)\n",
            "\u001b[K     |████████████████████████████████| 750.6 MB 18 kB/s \n",
            "\u001b[?25hCollecting torchvision==0.12.0\n",
            "  Downloading torchvision-0.12.0-cp38-cp38-manylinux1_x86_64.whl (21.0 MB)\n",
            "\u001b[K     |████████████████████████████████| 21.0 MB 1.2 MB/s \n",
            "\u001b[?25hCollecting tqdm==4.64.0\n",
            "  Downloading tqdm-4.64.0-py2.py3-none-any.whl (78 kB)\n",
            "\u001b[K     |████████████████████████████████| 78 kB 8.2 MB/s \n",
            "\u001b[?25hCollecting fonttools>=4.22.0\n",
            "  Downloading fonttools-4.38.0-py3-none-any.whl (965 kB)\n",
            "\u001b[K     |████████████████████████████████| 965 kB 72.2 MB/s \n",
            "\u001b[?25hRequirement already satisfied: packaging>=20.0 in /usr/local/lib/python3.8/dist-packages (from matplotlib==3.5.1->-r requirements.txt (line 1)) (21.3)\n",
            "Requirement already satisfied: pillow>=6.2.0 in /usr/local/lib/python3.8/dist-packages (from matplotlib==3.5.1->-r requirements.txt (line 1)) (7.1.2)\n",
            "Requirement already satisfied: kiwisolver>=1.0.1 in /usr/local/lib/python3.8/dist-packages (from matplotlib==3.5.1->-r requirements.txt (line 1)) (1.4.4)\n",
            "Requirement already satisfied: cycler>=0.10 in /usr/local/lib/python3.8/dist-packages (from matplotlib==3.5.1->-r requirements.txt (line 1)) (0.11.0)\n",
            "Requirement already satisfied: python-dateutil>=2.7 in /usr/local/lib/python3.8/dist-packages (from matplotlib==3.5.1->-r requirements.txt (line 1)) (2.8.2)\n",
            "Requirement already satisfied: pyparsing>=2.2.1 in /usr/local/lib/python3.8/dist-packages (from matplotlib==3.5.1->-r requirements.txt (line 1)) (3.0.9)\n",
            "Requirement already satisfied: numpy>=1.17 in /usr/local/lib/python3.8/dist-packages (from matplotlib==3.5.1->-r requirements.txt (line 1)) (1.21.6)\n",
            "Requirement already satisfied: typing-extensions in /usr/local/lib/python3.8/dist-packages (from torch==1.11.0->-r requirements.txt (line 2)) (4.4.0)\n",
            "Requirement already satisfied: requests in /usr/local/lib/python3.8/dist-packages (from torchvision==0.12.0->-r requirements.txt (line 3)) (2.23.0)\n",
            "Requirement already satisfied: six>=1.5 in /usr/local/lib/python3.8/dist-packages (from python-dateutil>=2.7->matplotlib==3.5.1->-r requirements.txt (line 1)) (1.15.0)\n",
            "Requirement already satisfied: certifi>=2017.4.17 in /usr/local/lib/python3.8/dist-packages (from requests->torchvision==0.12.0->-r requirements.txt (line 3)) (2022.12.7)\n",
            "Requirement already satisfied: idna<3,>=2.5 in /usr/local/lib/python3.8/dist-packages (from requests->torchvision==0.12.0->-r requirements.txt (line 3)) (2.10)\n",
            "Requirement already satisfied: chardet<4,>=3.0.2 in /usr/local/lib/python3.8/dist-packages (from requests->torchvision==0.12.0->-r requirements.txt (line 3)) (3.0.4)\n",
            "Requirement already satisfied: urllib3!=1.25.0,!=1.25.1,<1.26,>=1.21.1 in /usr/local/lib/python3.8/dist-packages (from requests->torchvision==0.12.0->-r requirements.txt (line 3)) (1.24.3)\n",
            "Installing collected packages: torch, fonttools, tqdm, torchvision, matplotlib\n",
            "  Attempting uninstall: torch\n",
            "    Found existing installation: torch 1.13.0+cu116\n",
            "    Uninstalling torch-1.13.0+cu116:\n",
            "      Successfully uninstalled torch-1.13.0+cu116\n",
            "  Attempting uninstall: tqdm\n",
            "    Found existing installation: tqdm 4.64.1\n",
            "    Uninstalling tqdm-4.64.1:\n",
            "      Successfully uninstalled tqdm-4.64.1\n",
            "  Attempting uninstall: torchvision\n",
            "    Found existing installation: torchvision 0.14.0+cu116\n",
            "    Uninstalling torchvision-0.14.0+cu116:\n",
            "      Successfully uninstalled torchvision-0.14.0+cu116\n",
            "  Attempting uninstall: matplotlib\n",
            "    Found existing installation: matplotlib 3.2.2\n",
            "    Uninstalling matplotlib-3.2.2:\n",
            "      Successfully uninstalled matplotlib-3.2.2\n",
            "\u001b[31mERROR: pip's dependency resolver does not currently take into account all the packages that are installed. This behaviour is the source of the following dependency conflicts.\n",
            "torchtext 0.14.0 requires torch==1.13.0, but you have torch 1.11.0 which is incompatible.\n",
            "torchaudio 0.13.0+cu116 requires torch==1.13.0, but you have torch 1.11.0 which is incompatible.\u001b[0m\n",
            "Successfully installed fonttools-4.38.0 matplotlib-3.5.1 torch-1.11.0 torchvision-0.12.0 tqdm-4.64.0\n"
          ]
        },
        {
          "output_type": "display_data",
          "data": {
            "application/vnd.colab-display-data+json": {
              "pip_warning": {
                "packages": [
                  "matplotlib",
                  "mpl_toolkits"
                ]
              }
            }
          },
          "metadata": {}
        }
      ],
      "source": [
        "!pip install -r requirements.txt"
      ]
    },
    {
      "cell_type": "code",
      "source": [
        "!python main.py"
      ],
      "metadata": {
        "id": "K2iGmPJirDlX",
        "outputId": "d802eb4d-f1e0-490f-d7cc-c7880f94487c",
        "colab": {
          "base_uri": "https://localhost:8080/"
        }
      },
      "execution_count": 9,
      "outputs": [
        {
          "output_type": "stream",
          "name": "stdout",
          "text": [
            "Downloading http://yann.lecun.com/exdb/mnist/train-images-idx3-ubyte.gz\n",
            "Downloading http://yann.lecun.com/exdb/mnist/train-images-idx3-ubyte.gz to ./data/MNIST/raw/train-images-idx3-ubyte.gz\n",
            "9913344it [00:00, 65028750.87it/s]                 \n",
            "Extracting ./data/MNIST/raw/train-images-idx3-ubyte.gz to ./data/MNIST/raw\n",
            "\n",
            "Downloading http://yann.lecun.com/exdb/mnist/train-labels-idx1-ubyte.gz\n",
            "Downloading http://yann.lecun.com/exdb/mnist/train-labels-idx1-ubyte.gz to ./data/MNIST/raw/train-labels-idx1-ubyte.gz\n",
            "29696it [00:00, 22675050.35it/s]\n",
            "Extracting ./data/MNIST/raw/train-labels-idx1-ubyte.gz to ./data/MNIST/raw\n",
            "\n",
            "Downloading http://yann.lecun.com/exdb/mnist/t10k-images-idx3-ubyte.gz\n",
            "Downloading http://yann.lecun.com/exdb/mnist/t10k-images-idx3-ubyte.gz to ./data/MNIST/raw/t10k-images-idx3-ubyte.gz\n",
            "1649664it [00:00, 19883879.29it/s]\n",
            "Extracting ./data/MNIST/raw/t10k-images-idx3-ubyte.gz to ./data/MNIST/raw\n",
            "\n",
            "Downloading http://yann.lecun.com/exdb/mnist/t10k-labels-idx1-ubyte.gz\n",
            "Downloading http://yann.lecun.com/exdb/mnist/t10k-labels-idx1-ubyte.gz to ./data/MNIST/raw/t10k-labels-idx1-ubyte.gz\n",
            "5120it [00:00, 24346.09it/s]             \n",
            "Extracting ./data/MNIST/raw/t10k-labels-idx1-ubyte.gz to ./data/MNIST/raw\n",
            "\n",
            "Generator loss: 2.303042889 - Discriminator loss: 0.378614902: 100% 937/937 [00:10<00:00, 85.35it/s]\n",
            "0 0.36522271651913796 2.820464455776052\n",
            "Generator loss: 1.612489700 - Discriminator loss: 0.296979576: 100% 937/937 [00:12<00:00, 77.74it/s]\n",
            "1 0.2765136596169263 2.3310647765244084\n",
            "Generator loss: 1.143404007 - Discriminator loss: 0.431652933: 100% 937/937 [00:09<00:00, 94.20it/s]\n",
            "2 0.5009231893713472 1.3798231718507112\n",
            "Generator loss: 2.082667828 - Discriminator loss: 0.184299335: 100% 937/937 [00:10<00:00, 92.70it/s]\n",
            "3 0.41293723451862213 1.460906735479259\n",
            "Generator loss: 1.976359844 - Discriminator loss: 0.333980739: 100% 937/937 [00:09<00:00, 95.46it/s]\n",
            "4 0.37570967541941963 2.0912250239668433\n",
            "Generator loss: 2.220091343 - Discriminator loss: 0.505161464: 100% 937/937 [00:09<00:00, 94.12it/s]\n",
            "5 0.5027449601424288 2.073495749730056\n",
            "Generator loss: 2.224380016 - Discriminator loss: 0.405196667: 100% 937/937 [00:09<00:00, 94.79it/s]\n",
            "6 0.5331334442440957 1.9660360754617632\n",
            "Generator loss: 2.185189962 - Discriminator loss: 0.316900730: 100% 937/937 [00:09<00:00, 94.87it/s]\n",
            "7 0.4009437204011604 2.2262656154347584\n",
            "Generator loss: 1.965221524 - Discriminator loss: 0.456781775: 100% 937/937 [00:09<00:00, 96.42it/s]\n",
            "8 0.3893400446741405 2.275340926176456\n",
            "Generator loss: 2.033057213 - Discriminator loss: 0.489980996: 100% 937/937 [00:09<00:00, 96.16it/s]\n",
            "9 0.447028287796735 2.182242775166938\n",
            "Generator loss: 2.690073967 - Discriminator loss: 0.426934361: 100% 937/937 [00:10<00:00, 92.85it/s]\n",
            "10 0.35738481247246967 2.332466656141373\n",
            "Generator loss: 2.110945463 - Discriminator loss: 0.443507671: 100% 937/937 [00:09<00:00, 95.06it/s]\n",
            "11 0.36924499080873224 2.3211517124064067\n",
            "Generator loss: 1.851433277 - Discriminator loss: 0.661883175: 100% 937/937 [00:10<00:00, 92.91it/s]\n",
            "12 0.3998965280510191 2.263685002398211\n",
            "Generator loss: 2.714515686 - Discriminator loss: 0.396520495: 100% 937/937 [00:09<00:00, 94.26it/s]\n",
            "13 0.3656251783241203 2.435400844129198\n",
            "Generator loss: 2.149642944 - Discriminator loss: 0.425847381: 100% 937/937 [00:09<00:00, 95.02it/s]\n",
            "14 0.35313394441485024 2.4501040359698596\n",
            "Generator loss: 2.942047119 - Discriminator loss: 0.288082868: 100% 937/937 [00:09<00:00, 94.24it/s]\n",
            "15 0.3369840228474891 2.588235599381438\n",
            "Generator loss: 2.598061800 - Discriminator loss: 0.310538501: 100% 937/937 [00:09<00:00, 94.56it/s]\n",
            "16 0.36025319246052423 2.638291550802192\n",
            "Generator loss: 2.768838406 - Discriminator loss: 0.317845523: 100% 937/937 [00:09<00:00, 94.98it/s]\n",
            "17 0.36522201129822746 2.5302549514088586\n",
            "Generator loss: 2.430258512 - Discriminator loss: 0.376371205: 100% 937/937 [00:09<00:00, 95.07it/s]\n",
            "18 0.369723561002198 2.656698496135602\n",
            "Generator loss: 2.431339025 - Discriminator loss: 0.389493167: 100% 937/937 [00:09<00:00, 95.21it/s]\n",
            "19 0.42022754452335415 2.4369741628620387\n",
            "Generator loss: 2.301639318 - Discriminator loss: 0.456411809: 100% 937/937 [00:09<00:00, 95.36it/s]\n",
            "20 0.38122881657922025 2.4833886804041256\n",
            "Generator loss: 2.323870182 - Discriminator loss: 0.470543355: 100% 937/937 [00:09<00:00, 95.00it/s]\n",
            "21 0.391780964783696 2.5099575991564396\n",
            "Generator loss: 1.935724378 - Discriminator loss: 0.667045534: 100% 937/937 [00:09<00:00, 94.56it/s]\n",
            "22 0.3728350697993723 2.606372781853284\n",
            "Generator loss: 2.848526716 - Discriminator loss: 0.383470654: 100% 937/937 [00:11<00:00, 78.89it/s]\n",
            "23 0.44269686754447035 2.4911271376950763\n",
            "Generator loss: 2.501003265 - Discriminator loss: 0.353051931: 100% 937/937 [00:09<00:00, 95.84it/s]\n",
            "24 0.4536134334263196 2.467379538710115\n",
            "Generator loss: 3.594507217 - Discriminator loss: 0.139876664: 100% 937/937 [00:09<00:00, 94.93it/s]\n",
            "25 0.403863856813442 2.50520979760169\n",
            "Generator loss: 3.289197922 - Discriminator loss: 0.180326462: 100% 937/937 [00:09<00:00, 95.71it/s]\n",
            "26 0.37064214911125004 2.6369984264434847\n",
            "Generator loss: 3.244848967 - Discriminator loss: 0.189050317: 100% 937/937 [00:09<00:00, 96.43it/s]\n",
            "27 0.4326651833132466 2.415829657490505\n",
            "Generator loss: 2.687232494 - Discriminator loss: 0.282658279: 100% 937/937 [00:09<00:00, 95.54it/s]\n",
            "28 0.5044280935154399 2.3041838177240264\n",
            "Generator loss: 2.549798250 - Discriminator loss: 0.331925929: 100% 937/937 [00:09<00:00, 95.45it/s]\n",
            "29 0.40610160393165295 2.563118708171865\n",
            "Generator loss: 2.521103621 - Discriminator loss: 0.335890800: 100% 937/937 [00:09<00:00, 94.88it/s]\n",
            "30 0.4949428687227955 2.342262275954321\n",
            "Generator loss: 2.689121723 - Discriminator loss: 0.377752900: 100% 937/937 [00:09<00:00, 94.20it/s]\n",
            "31 0.4936039964951726 2.2977997480614336\n",
            "Generator loss: 3.425228119 - Discriminator loss: 0.289053082: 100% 937/937 [00:09<00:00, 94.37it/s]\n",
            "32 0.6355697291892265 2.177011725869479\n",
            "Generator loss: 2.293920517 - Discriminator loss: 0.350316584: 100% 937/937 [00:09<00:00, 96.24it/s]\n",
            "33 0.404571320929166 2.6293588942880946\n",
            "Generator loss: 2.842006207 - Discriminator loss: 0.435245156: 100% 937/937 [00:09<00:00, 95.13it/s]\n",
            "34 0.5357620906295492 2.2595541365245873\n",
            "Generator loss: 2.527551174 - Discriminator loss: 0.381191194: 100% 937/937 [00:09<00:00, 95.45it/s]\n",
            "35 0.4656249681048358 2.3837534270647875\n",
            "Generator loss: 3.524519682 - Discriminator loss: 0.220877022: 100% 937/937 [00:09<00:00, 96.13it/s]\n",
            "36 0.5648709968559388 2.261265350126024\n",
            "Generator loss: 1.771052122 - Discriminator loss: 0.627286553: 100% 937/937 [00:09<00:00, 95.34it/s]\n",
            "37 0.7180230726936202 2.214450231801993\n",
            "Generator loss: 3.284908056 - Discriminator loss: 0.283099115: 100% 937/937 [00:09<00:00, 95.50it/s]\n",
            "38 0.4183500067528691 2.5535714929106397\n",
            "Generator loss: 2.634632587 - Discriminator loss: 0.295035392: 100% 937/937 [00:09<00:00, 94.68it/s]\n",
            "39 0.49429422755315183 2.452400665781923\n",
            "Generator loss: 2.628107548 - Discriminator loss: 0.521340191: 100% 937/937 [00:09<00:00, 94.32it/s]\n",
            "40 0.5323847367357674 2.299968491877919\n",
            "Generator loss: 2.500092030 - Discriminator loss: 0.504890203: 100% 937/937 [00:09<00:00, 95.46it/s]\n",
            "41 0.5224645634598258 2.325040092335948\n",
            "Generator loss: 2.970292568 - Discriminator loss: 0.369930685: 100% 937/937 [00:09<00:00, 94.19it/s]\n",
            "42 0.7578015530058516 2.057005379217793\n",
            "Generator loss: 2.577614307 - Discriminator loss: 0.415311843: 100% 937/937 [00:09<00:00, 94.68it/s]\n",
            "43 0.4574665510698978 2.6434665630823013\n",
            "Generator loss: 2.459084988 - Discriminator loss: 0.570837140: 100% 937/937 [00:09<00:00, 94.41it/s]\n",
            "44 0.6125406125757203 2.205966389166507\n",
            "Generator loss: 2.283224821 - Discriminator loss: 0.522616863: 100% 937/937 [00:11<00:00, 79.89it/s]\n",
            "45 0.5758564358650684 2.207726919027632\n",
            "Generator loss: 2.245288849 - Discriminator loss: 0.505138159: 100% 937/937 [00:09<00:00, 94.18it/s]\n",
            "46 0.5761929364316364 2.1945815373891953\n",
            "Generator loss: 2.531676531 - Discriminator loss: 0.486598462: 100% 937/937 [00:09<00:00, 93.96it/s]\n",
            "47 0.5782826129056855 2.2000357001670015\n",
            "Generator loss: 2.290277958 - Discriminator loss: 0.575753689: 100% 937/937 [00:09<00:00, 95.41it/s]\n",
            "48 0.6026478006783773 2.1440986407604643\n",
            "Generator loss: 1.729236126 - Discriminator loss: 0.828325152: 100% 937/937 [00:09<00:00, 95.63it/s]\n",
            "49 1.9623906465770087 1.1949076575556077\n",
            "Generator loss: 2.759222269 - Discriminator loss: 0.524538279: 100% 937/937 [00:09<00:00, 95.95it/s]\n",
            "50 0.8377620400016056 1.9845528788347764\n",
            "Generator loss: 2.941654444 - Discriminator loss: 0.408477068: 100% 937/937 [00:09<00:00, 95.44it/s]\n",
            "51 0.8340137488464154 2.1918465939758938\n",
            "Generator loss: 3.294965267 - Discriminator loss: 0.197330445: 100% 937/937 [00:09<00:00, 95.28it/s]\n",
            "52 0.47484927232453766 2.5910679599391484\n",
            "Generator loss: 2.267318249 - Discriminator loss: 0.421971887: 100% 937/937 [00:09<00:00, 94.22it/s]\n",
            "53 0.6350204935863917 2.1788107544788047\n",
            "Generator loss: 2.221836567 - Discriminator loss: 0.520255506: 100% 937/937 [00:09<00:00, 95.07it/s]\n",
            "54 0.6309743131110355 2.1135580764890607\n",
            "Generator loss: 0.627809763 - Discriminator loss: 2.212766647: 100% 937/937 [00:09<00:00, 93.88it/s]\n",
            "55 1.3298653941462364 1.7798609273029111\n",
            "Generator loss: 2.036089897 - Discriminator loss: 0.669709861: 100% 937/937 [00:09<00:00, 94.18it/s]\n",
            "56 1.3701685938344057 1.4206180064884295\n",
            "Generator loss: 2.494159937 - Discriminator loss: 0.269983351: 100% 937/937 [00:09<00:00, 95.10it/s]\n",
            "57 0.6817503081378204 2.3071009990627\n",
            "Generator loss: 1.133973360 - Discriminator loss: 1.439289331: 100% 937/937 [00:09<00:00, 95.20it/s]\n",
            "58 0.8980116030417995 2.442878338545084\n",
            "Generator loss: 2.197232723 - Discriminator loss: 0.594951391: 100% 937/937 [00:10<00:00, 93.41it/s]\n",
            "59 1.0661291063404388 1.7141006913358146\n",
            "Generator loss: 2.837734222 - Discriminator loss: 0.337690383: 100% 937/937 [00:09<00:00, 95.90it/s]\n",
            "60 0.473641553295333 2.541271185416931\n",
            "Generator loss: 2.037615299 - Discriminator loss: 0.695713520: 100% 937/937 [00:09<00:00, 94.69it/s]\n",
            "61 0.7218183785708763 2.1083308378176855\n",
            "Generator loss: 1.879474998 - Discriminator loss: 0.579601049: 100% 937/937 [00:10<00:00, 93.61it/s]\n",
            "62 0.7111451383143377 2.0255815089703115\n",
            "Generator loss: 2.206236601 - Discriminator loss: 0.748394132: 100% 937/937 [00:10<00:00, 93.08it/s]\n",
            "63 0.7037207554854858 2.04459806923678\n",
            "Generator loss: 2.173559904 - Discriminator loss: 0.873164535: 100% 937/937 [00:09<00:00, 93.93it/s]\n",
            "64 0.7045380041846089 2.02116713910627\n",
            "Generator loss: 1.000666738 - Discriminator loss: 1.920590520: 100% 937/937 [00:10<00:00, 92.86it/s]\n",
            "65 1.7315968674236835 1.4759342688252093\n",
            "Generator loss: 2.309393883 - Discriminator loss: 0.878478229: 100% 937/937 [00:09<00:00, 94.60it/s]\n",
            "66 1.3418542690567172 1.3975921256056207\n",
            "Generator loss: 2.459002972 - Discriminator loss: 0.682338119: 100% 937/937 [00:09<00:00, 95.31it/s]\n",
            "67 0.689960202402977 2.1409222619128965\n",
            "Generator loss: 2.125203133 - Discriminator loss: 0.585431457: 100% 937/937 [00:11<00:00, 79.08it/s]\n",
            "68 0.574466765085941 2.3665621517307605\n",
            "Generator loss: 2.192787886 - Discriminator loss: 0.658159196: 100% 937/937 [00:09<00:00, 95.47it/s]\n",
            "69 0.69874448051702 2.0253784684514033\n",
            "Generator loss: 2.029078484 - Discriminator loss: 0.707228363: 100% 937/937 [00:09<00:00, 93.89it/s]\n",
            "70 0.7002486496877518 2.0145039979523505\n",
            "Generator loss: 2.230632782 - Discriminator loss: 0.526910782: 100% 937/937 [00:10<00:00, 92.79it/s]\n",
            "71 0.6963384182946787 2.0101580643984653\n",
            "Generator loss: 2.049278259 - Discriminator loss: 0.771124005: 100% 937/937 [00:10<00:00, 93.69it/s]\n",
            "72 0.6840781853509432 2.001712282032188\n",
            "Generator loss: 2.241281986 - Discriminator loss: 0.734493673: 100% 937/937 [00:09<00:00, 95.20it/s]\n",
            "73 0.6903559144113209 1.9790148904254876\n",
            "Generator loss: 2.011687517 - Discriminator loss: 0.631172359: 100% 937/937 [00:09<00:00, 94.22it/s]\n",
            "74 0.6998162171629475 2.0017745310367108\n",
            "Generator loss: 2.141945362 - Discriminator loss: 0.508684993: 100% 937/937 [00:09<00:00, 94.32it/s]\n",
            "75 0.7119910785075567 1.9941343786622314\n",
            "Generator loss: 1.941505194 - Discriminator loss: 0.458993256: 100% 937/937 [00:09<00:00, 95.06it/s]\n",
            "76 0.7031142261582989 1.9827128779799097\n",
            "Generator loss: 2.023988008 - Discriminator loss: 0.453224540: 100% 937/937 [00:10<00:00, 93.47it/s]\n",
            "77 0.7077206168701453 1.9707133850140404\n",
            "Generator loss: 1.962849140 - Discriminator loss: 0.517724156: 100% 937/937 [00:10<00:00, 93.34it/s]\n",
            "78 0.7273055933010362 1.9397869078301315\n",
            "Generator loss: 2.269749403 - Discriminator loss: 0.478648216: 100% 937/937 [00:09<00:00, 93.85it/s]\n",
            "79 0.7366905173598893 1.937043260230326\n",
            "Generator loss: 2.158150673 - Discriminator loss: 0.465482146: 100% 937/937 [00:10<00:00, 92.14it/s]\n",
            "80 0.7329212225806624 1.9507386342184012\n",
            "Generator loss: 1.826161981 - Discriminator loss: 0.681553960: 100% 937/937 [00:10<00:00, 92.93it/s]\n",
            "81 0.7475455000026503 1.9223028278910617\n",
            "Generator loss: 1.957597613 - Discriminator loss: 0.582540154: 100% 937/937 [00:10<00:00, 93.41it/s]\n",
            "82 0.7630526737062501 1.8665333347615718\n",
            "Generator loss: 1.791507959 - Discriminator loss: 0.541718423: 100% 937/937 [00:10<00:00, 92.77it/s]\n",
            "83 0.7729606522503631 1.8504245140000366\n",
            "Generator loss: 1.683413267 - Discriminator loss: 0.679614425: 100% 937/937 [00:10<00:00, 93.50it/s]\n",
            "84 0.7728097706619678 1.83474593076024\n",
            "Generator loss: 1.852657199 - Discriminator loss: 0.517195463: 100% 937/937 [00:10<00:00, 93.57it/s]\n",
            "85 0.7677713309115508 1.8920671983106159\n",
            "Generator loss: 0.559569776 - Discriminator loss: 2.092155933: 100% 937/937 [00:09<00:00, 93.83it/s]\n",
            "86 2.492100469108071 1.1241736780522091\n",
            "Generator loss: 1.285212636 - Discriminator loss: 0.943244100: 100% 937/937 [00:09<00:00, 94.39it/s]\n",
            "87 1.6763300515289876 1.121496584047757\n",
            "Generator loss: 2.056320906 - Discriminator loss: 0.434421003: 100% 937/937 [00:09<00:00, 94.11it/s]\n",
            "88 0.9469832329510879 1.7363145533340845\n",
            "Generator loss: 1.114947438 - Discriminator loss: 1.205645204: 100% 937/937 [00:10<00:00, 93.43it/s]\n",
            "89 1.5754595695335811 1.5783211885292476\n",
            "Generator loss: 1.094863176 - Discriminator loss: 0.988835812: 100% 937/937 [00:09<00:00, 94.61it/s]\n",
            "90 1.7821910633221507 0.9783272911161344\n",
            "Generator loss: 1.624035835 - Discriminator loss: 0.698265553: 100% 937/937 [00:11<00:00, 78.97it/s]\n",
            "91 1.1156558331455975 1.4033364350157078\n",
            "Generator loss: 1.922938466 - Discriminator loss: 0.506106973: 100% 937/937 [00:10<00:00, 93.07it/s]\n",
            "92 0.7306646608301263 1.8304347289664513\n",
            "Generator loss: 1.767600775 - Discriminator loss: 0.493779331: 100% 937/937 [00:10<00:00, 92.59it/s]\n",
            "93 0.6073458841350824 2.011950377720779\n",
            "Generator loss: 1.718277335 - Discriminator loss: 0.569321632: 100% 937/937 [00:10<00:00, 91.31it/s]\n",
            "94 0.7680425300414941 1.7071741468242292\n",
            "Generator loss: 1.035225034 - Discriminator loss: 1.264772177: 100% 937/937 [00:10<00:00, 93.20it/s]\n",
            "95 1.7359363295797858 1.0634579734206835\n",
            "Generator loss: 1.409605384 - Discriminator loss: 0.579028904: 100% 937/937 [00:10<00:00, 93.41it/s]\n",
            "96 1.0975387320320023 1.2989494666345855\n",
            "Generator loss: 1.956291914 - Discriminator loss: 0.362010300: 100% 937/937 [00:09<00:00, 94.58it/s]\n",
            "97 0.6655515059590212 1.790684295056851\n",
            "Generator loss: 1.871285915 - Discriminator loss: 0.469907939: 100% 937/937 [00:09<00:00, 93.72it/s]\n",
            "98 0.7698748764068111 1.691997226808725\n",
            "Generator loss: 1.753022075 - Discriminator loss: 0.595181584: 100% 937/937 [00:09<00:00, 94.46it/s]\n",
            "99 0.777676519773813 1.6732004364373971\n"
          ]
        }
      ]
    }
  ],
  "metadata": {
    "accelerator": "GPU",
    "colab": {
      "provenance": [],
      "include_colab_link": true
    },
    "gpuClass": "premium",
    "kernelspec": {
      "display_name": "Python 3",
      "name": "python3"
    },
    "language_info": {
      "name": "python"
    }
  },
  "nbformat": 4,
  "nbformat_minor": 0
}